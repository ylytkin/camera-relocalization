{
 "cells": [
  {
   "cell_type": "code",
   "execution_count": 1,
   "metadata": {},
   "outputs": [],
   "source": [
    "import sys\n",
    "sys.path.append('..')"
   ]
  },
  {
   "cell_type": "code",
   "execution_count": 14,
   "metadata": {},
   "outputs": [],
   "source": [
    "import numpy as np\n",
    "import pandas as pd\n",
    "import tensorflow as tf\n",
    "from tqdm import tqdm\n",
    "from matplotlib import pyplot as plt\n",
    "from matplotlib import image as img\n",
    "\n",
    "from sklearn.preprocessing import MinMaxScaler\n",
    "from sklearn.model_selection import train_test_split\n",
    "from sklearn.metrics import *\n",
    "\n",
    "from config import load_train_data"
   ]
  },
  {
   "cell_type": "code",
   "execution_count": 3,
   "metadata": {},
   "outputs": [
    {
     "name": "stderr",
     "output_type": "stream",
     "text": [
      "100%|██████████| 1000/1000 [00:12<00:00, 78.03it/s]\n"
     ]
    },
    {
     "data": {
      "text/plain": [
       "((1000, 160, 214, 3), (1000, 7))"
      ]
     },
     "execution_count": 3,
     "metadata": {},
     "output_type": "execute_result"
    }
   ],
   "source": [
    "x, y = load_train_data(rescaling_factor=3)\n",
    "\n",
    "x.shape, y.shape"
   ]
  },
  {
   "cell_type": "code",
   "execution_count": 16,
   "metadata": {},
   "outputs": [],
   "source": [
    "y_scaled = MinMaxScaler().fit_transform(y)"
   ]
  },
  {
   "cell_type": "code",
   "execution_count": 4,
   "metadata": {},
   "outputs": [],
   "source": [
    "def get_random_crop(image: np.ndarray, cropped_size: int) -> np.ndarray:\n",
    "    \"\"\"Get a random square crop of the given image.\n",
    "    \"\"\"\n",
    "    \n",
    "    half_size = cropped_size // 2\n",
    "\n",
    "    height, width, _ = image.shape\n",
    "    center_x = np.random.randint(half_size, height - half_size)\n",
    "    center_y = np.random.randint(half_size, width - half_size)\n",
    "    \n",
    "    return image[center_x - half_size : center_x + half_size, center_y - half_size : center_y + half_size]"
   ]
  },
  {
   "cell_type": "code",
   "execution_count": 5,
   "metadata": {},
   "outputs": [],
   "source": [
    "def get_center_crop(image: np.ndarray, cropped_size: int) -> np.ndarray:\n",
    "    \"\"\"Get the center crop of the given image.\n",
    "    \"\"\"\n",
    "\n",
    "    half_size = cropped_size // 2\n",
    "    \n",
    "    height, width, _ = image.shape\n",
    "    center_x = height // 2\n",
    "    center_y = width // 2\n",
    "    \n",
    "    return image[center_x - half_size : center_x + half_size, center_y - half_size : center_y + half_size]"
   ]
  },
  {
   "cell_type": "code",
   "execution_count": 17,
   "metadata": {},
   "outputs": [],
   "source": [
    "x_train, x_test, y_train, y_test = train_test_split(x, y_scaled, test_size=0.25, shuffle=True)"
   ]
  },
  {
   "cell_type": "code",
   "execution_count": 18,
   "metadata": {},
   "outputs": [],
   "source": [
    "AUGMENTING_RATE = 30\n",
    "CROPPED_SIZE = 80"
   ]
  },
  {
   "cell_type": "code",
   "execution_count": 19,
   "metadata": {},
   "outputs": [
    {
     "data": {
      "text/plain": [
       "((22500, 80, 80, 3), (22500, 7))"
      ]
     },
     "execution_count": 19,
     "metadata": {},
     "output_type": "execute_result"
    }
   ],
   "source": [
    "x_train_augmented = []\n",
    "y_train_augmented = []\n",
    "\n",
    "for x_, y_ in zip(x_train, y_train):\n",
    "    for _ in range(AUGMENTING_RATE):\n",
    "        x_train_augmented.append(get_random_crop(x_, cropped_size=CROPPED_SIZE))\n",
    "        y_train_augmented.append(y_)\n",
    "\n",
    "x_train_augmented = np.array(x_train_augmented)\n",
    "y_train_augmented = np.array(y_train_augmented)\n",
    "\n",
    "x_train_augmented.shape, y_train_augmented.shape"
   ]
  },
  {
   "cell_type": "code",
   "execution_count": 20,
   "metadata": {},
   "outputs": [
    {
     "data": {
      "text/plain": [
       "((250, 80, 80, 3), (250, 7))"
      ]
     },
     "execution_count": 20,
     "metadata": {},
     "output_type": "execute_result"
    }
   ],
   "source": [
    "x_test_centered = np.array([get_center_crop(image, cropped_size=CROPPED_SIZE) for image in x_test])\n",
    "\n",
    "x_test_centered.shape, y_test.shape"
   ]
  },
  {
   "cell_type": "code",
   "execution_count": 30,
   "metadata": {},
   "outputs": [
    {
     "name": "stdout",
     "output_type": "stream",
     "text": [
      "Model: \"sequential_2\"\n",
      "_________________________________________________________________\n",
      "Layer (type)                 Output Shape              Param #   \n",
      "=================================================================\n",
      "conv2d_6 (Conv2D)            (None, 78, 78, 16)        448       \n",
      "_________________________________________________________________\n",
      "max_pooling2d_6 (MaxPooling2 (None, 39, 39, 16)        0         \n",
      "_________________________________________________________________\n",
      "conv2d_7 (Conv2D)            (None, 37, 37, 32)        4640      \n",
      "_________________________________________________________________\n",
      "max_pooling2d_7 (MaxPooling2 (None, 18, 18, 32)        0         \n",
      "_________________________________________________________________\n",
      "conv2d_8 (Conv2D)            (None, 16, 16, 64)        18496     \n",
      "_________________________________________________________________\n",
      "max_pooling2d_8 (MaxPooling2 (None, 8, 8, 64)          0         \n",
      "_________________________________________________________________\n",
      "flatten_2 (Flatten)          (None, 4096)              0         \n",
      "_________________________________________________________________\n",
      "dense_4 (Dense)              (None, 128)               524416    \n",
      "_________________________________________________________________\n",
      "dense_5 (Dense)              (None, 7)                 903       \n",
      "=================================================================\n",
      "Total params: 548,903\n",
      "Trainable params: 548,903\n",
      "Non-trainable params: 0\n",
      "_________________________________________________________________\n"
     ]
    }
   ],
   "source": [
    "model = tf.keras.models.Sequential([\n",
    "    tf.keras.layers.InputLayer(input_shape=x_train_augmented[0].shape),\n",
    "    tf.keras.layers.Conv2D(16, (3, 3), activation='relu'),\n",
    "    tf.keras.layers.MaxPool2D(),\n",
    "    tf.keras.layers.Conv2D(32, (3, 3), activation='relu'),\n",
    "    tf.keras.layers.MaxPool2D(),\n",
    "    tf.keras.layers.Conv2D(64, (3, 3), activation='relu'),\n",
    "    tf.keras.layers.MaxPool2D(),\n",
    "    tf.keras.layers.Flatten(),\n",
    "    tf.keras.layers.Dense(128, activation='relu'),\n",
    "    tf.keras.layers.Dense(y_train_augmented.shape[1]),\n",
    "])\n",
    "model.summary()"
   ]
  },
  {
   "cell_type": "code",
   "execution_count": 31,
   "metadata": {},
   "outputs": [],
   "source": [
    "EPOCHS = 15"
   ]
  },
  {
   "cell_type": "code",
   "execution_count": 32,
   "metadata": {},
   "outputs": [],
   "source": [
    "model.compile(loss='mse')"
   ]
  },
  {
   "cell_type": "code",
   "execution_count": 33,
   "metadata": {},
   "outputs": [
    {
     "name": "stdout",
     "output_type": "stream",
     "text": [
      "Epoch 1/15\n",
      "704/704 [==============================] - 16s 22ms/step - loss: 0.0558 - val_loss: 0.0312\n",
      "Epoch 2/15\n",
      "704/704 [==============================] - 16s 23ms/step - loss: 0.0239 - val_loss: 0.0158\n",
      "Epoch 3/15\n",
      "704/704 [==============================] - 16s 22ms/step - loss: 0.0169 - val_loss: 0.0163\n",
      "Epoch 4/15\n",
      "704/704 [==============================] - 16s 23ms/step - loss: 0.0134 - val_loss: 0.0141\n",
      "Epoch 5/15\n",
      "704/704 [==============================] - 15s 21ms/step - loss: 0.0111 - val_loss: 0.0208\n",
      "Epoch 6/15\n",
      "704/704 [==============================] - 15s 22ms/step - loss: 0.0096 - val_loss: 0.0139\n",
      "Epoch 7/15\n",
      "704/704 [==============================] - 15s 21ms/step - loss: 0.0082 - val_loss: 0.0122\n",
      "Epoch 8/15\n",
      "704/704 [==============================] - 16s 23ms/step - loss: 0.0072 - val_loss: 0.0133\n",
      "Epoch 9/15\n",
      "704/704 [==============================] - 17s 23ms/step - loss: 0.0065 - val_loss: 0.0147\n",
      "Epoch 10/15\n",
      "704/704 [==============================] - 16s 22ms/step - loss: 0.0057 - val_loss: 0.0131\n",
      "Epoch 11/15\n",
      "704/704 [==============================] - 14s 21ms/step - loss: 0.0053 - val_loss: 0.0097\n",
      "Epoch 12/15\n",
      "704/704 [==============================] - 15s 21ms/step - loss: 0.0049 - val_loss: 0.0111\n",
      "Epoch 13/15\n",
      "704/704 [==============================] - 16s 22ms/step - loss: 0.0043 - val_loss: 0.0109\n",
      "Epoch 14/15\n",
      "704/704 [==============================] - 15s 21ms/step - loss: 0.0042 - val_loss: 0.0096\n",
      "Epoch 15/15\n",
      "704/704 [==============================] - 15s 21ms/step - loss: 0.0038 - val_loss: 0.0114\n"
     ]
    },
    {
     "data": {
      "text/plain": [
       "<tensorflow.python.keras.callbacks.History at 0x7f4d4bc4af50>"
      ]
     },
     "execution_count": 33,
     "metadata": {},
     "output_type": "execute_result"
    }
   ],
   "source": [
    "model.fit(\n",
    "    x_train_augmented, y_train_augmented,\n",
    "    epochs=EPOCHS,\n",
    "    validation_data=(x_test_centered, y_test),\n",
    ")"
   ]
  },
  {
   "cell_type": "code",
   "execution_count": 34,
   "metadata": {},
   "outputs": [],
   "source": [
    "def posenet_loss(y_true, y_pred, beta: float = 300):\n",
    "    \"\"\"Squared error sum with promoting the quaternion part error by the `beta` argument.\n",
    "    \"\"\"\n",
    "\n",
    "    y_true_pos = y_true[:, :4]\n",
    "    y_true_q = y_true[:, 4:]\n",
    "    y_pred_pos = y_pred[:, :4]\n",
    "    y_pred_q = y_pred[:, 4:]\n",
    "\n",
    "    return (tf.reduce_sum(tf.square(y_true_pos - y_pred_pos), axis=1)\n",
    "            + beta * tf.reduce_sum(tf.square(y_true_q - y_pred_q), axis=1))"
   ]
  },
  {
   "cell_type": "code",
   "execution_count": 35,
   "metadata": {},
   "outputs": [],
   "source": [
    "model.compile(loss=posenet_loss, metrics=['mse'])"
   ]
  },
  {
   "cell_type": "code",
   "execution_count": 36,
   "metadata": {},
   "outputs": [
    {
     "name": "stdout",
     "output_type": "stream",
     "text": [
      "Epoch 1/15\n",
      "704/704 [==============================] - 16s 21ms/step - loss: 3.9786 - mse: 0.0051 - val_loss: 11.2790 - val_mse: 0.0129\n",
      "Epoch 2/15\n",
      "704/704 [==============================] - 15s 21ms/step - loss: 3.5558 - mse: 0.0057 - val_loss: 7.8060 - val_mse: 0.0100\n",
      "Epoch 3/15\n",
      "704/704 [==============================] - 15s 21ms/step - loss: 3.4598 - mse: 0.0059 - val_loss: 10.5906 - val_mse: 0.0125\n",
      "Epoch 4/15\n",
      "704/704 [==============================] - 15s 21ms/step - loss: 3.0968 - mse: 0.0061 - val_loss: 12.9805 - val_mse: 0.0135\n",
      "Epoch 5/15\n",
      "704/704 [==============================] - 15s 21ms/step - loss: 2.8064 - mse: 0.0061 - val_loss: 15.9404 - val_mse: 0.0220\n",
      "Epoch 6/15\n",
      "704/704 [==============================] - 15s 21ms/step - loss: 2.8139 - mse: 0.0066 - val_loss: 10.2331 - val_mse: 0.0135\n",
      "Epoch 7/15\n",
      "704/704 [==============================] - 15s 21ms/step - loss: 2.4901 - mse: 0.0062 - val_loss: 10.9041 - val_mse: 0.0129\n",
      "Epoch 8/15\n",
      "704/704 [==============================] - 15s 21ms/step - loss: 2.3298 - mse: 0.0061 - val_loss: 11.8514 - val_mse: 0.0151\n",
      "Epoch 9/15\n",
      "704/704 [==============================] - 15s 21ms/step - loss: 2.3256 - mse: 0.0063 - val_loss: 19.9722 - val_mse: 0.0211\n",
      "Epoch 10/15\n",
      "704/704 [==============================] - 15s 21ms/step - loss: 2.2031 - mse: 0.0065 - val_loss: 10.6629 - val_mse: 0.0129\n",
      "Epoch 11/15\n",
      "704/704 [==============================] - 15s 21ms/step - loss: 2.0393 - mse: 0.0065 - val_loss: 10.8575 - val_mse: 0.0122\n",
      "Epoch 12/15\n",
      "704/704 [==============================] - 15s 21ms/step - loss: 1.9951 - mse: 0.0065 - val_loss: 9.7045 - val_mse: 0.0124\n",
      "Epoch 13/15\n",
      "704/704 [==============================] - 15s 21ms/step - loss: 1.7916 - mse: 0.0063 - val_loss: 10.7445 - val_mse: 0.0147\n",
      "Epoch 14/15\n",
      "704/704 [==============================] - 15s 21ms/step - loss: 1.7702 - mse: 0.0063 - val_loss: 10.2750 - val_mse: 0.0120\n",
      "Epoch 15/15\n",
      "704/704 [==============================] - 15s 21ms/step - loss: 1.7844 - mse: 0.0064 - val_loss: 9.6499 - val_mse: 0.0124\n"
     ]
    },
    {
     "data": {
      "text/plain": [
       "<tensorflow.python.keras.callbacks.History at 0x7f4d4c4b3310>"
      ]
     },
     "execution_count": 36,
     "metadata": {},
     "output_type": "execute_result"
    }
   ],
   "source": [
    "model.fit(\n",
    "    x_train_augmented, y_train_augmented,\n",
    "    epochs=EPOCHS,\n",
    "    validation_data=(x_test_centered, y_test),\n",
    ")"
   ]
  },
  {
   "cell_type": "code",
   "execution_count": null,
   "metadata": {},
   "outputs": [],
   "source": []
  },
  {
   "cell_type": "code",
   "execution_count": null,
   "metadata": {},
   "outputs": [],
   "source": []
  }
 ],
 "metadata": {
  "kernelspec": {
   "display_name": "Python 3",
   "language": "python",
   "name": "python3"
  },
  "language_info": {
   "codemirror_mode": {
    "name": "ipython",
    "version": 3
   },
   "file_extension": ".py",
   "mimetype": "text/x-python",
   "name": "python",
   "nbconvert_exporter": "python",
   "pygments_lexer": "ipython3",
   "version": "3.7.5"
  }
 },
 "nbformat": 4,
 "nbformat_minor": 4
}
