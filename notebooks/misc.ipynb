{
 "cells": [
  {
   "cell_type": "code",
   "execution_count": 153,
   "metadata": {},
   "outputs": [],
   "source": [
    "from pathlib import Path\n",
    "\n",
    "import numpy as np\n",
    "import pandas as pd\n",
    "import tensorflow as tf\n",
    "from matplotlib import pyplot as plt\n",
    "from matplotlib import image as img\n",
    "from tqdm.notebook import tqdm\n",
    "from sklearn.model_selection import train_test_split"
   ]
  },
  {
   "cell_type": "code",
   "execution_count": 154,
   "metadata": {},
   "outputs": [],
   "source": [
    "data_dir = Path('/home/ylytkin/Development/data/camera_relocalization_sample_dataset')\n",
    "images_dir = data_dir / 'images'"
   ]
  },
  {
   "cell_type": "code",
   "execution_count": 155,
   "metadata": {},
   "outputs": [
    {
     "data": {
      "text/html": [
       "<div>\n",
       "<style scoped>\n",
       "    .dataframe tbody tr th:only-of-type {\n",
       "        vertical-align: middle;\n",
       "    }\n",
       "\n",
       "    .dataframe tbody tr th {\n",
       "        vertical-align: top;\n",
       "    }\n",
       "\n",
       "    .dataframe thead th {\n",
       "        text-align: right;\n",
       "    }\n",
       "</style>\n",
       "<table border=\"1\" class=\"dataframe\">\n",
       "  <thead>\n",
       "    <tr style=\"text-align: right;\">\n",
       "      <th></th>\n",
       "      <th>Unnamed: 0</th>\n",
       "      <th>Unnamed: 0.1</th>\n",
       "      <th>TimeStamp</th>\n",
       "      <th>POS_X</th>\n",
       "      <th>POS_Y</th>\n",
       "      <th>POS_Z</th>\n",
       "      <th>Q_W</th>\n",
       "      <th>Q_X</th>\n",
       "      <th>Q_Y</th>\n",
       "      <th>Q_Z</th>\n",
       "      <th>IMU_LAX</th>\n",
       "      <th>IMU_LAY</th>\n",
       "      <th>IMU_LAZ</th>\n",
       "      <th>IMU_AVX</th>\n",
       "      <th>IMU_AVY</th>\n",
       "      <th>IMU_AVZ</th>\n",
       "      <th>ImageFile</th>\n",
       "      <th>DepthFile</th>\n",
       "      <th>SegFile</th>\n",
       "    </tr>\n",
       "  </thead>\n",
       "  <tbody>\n",
       "    <tr>\n",
       "      <th>0</th>\n",
       "      <td>0</td>\n",
       "      <td>0</td>\n",
       "      <td>1542098918672</td>\n",
       "      <td>1.628652</td>\n",
       "      <td>-1.342870</td>\n",
       "      <td>-0.038781</td>\n",
       "      <td>1.000000</td>\n",
       "      <td>-0.0</td>\n",
       "      <td>0.0</td>\n",
       "      <td>0.000000</td>\n",
       "      <td>-0.012323</td>\n",
       "      <td>0.012355</td>\n",
       "      <td>-9.793530</td>\n",
       "      <td>0.000031</td>\n",
       "      <td>0.000238</td>\n",
       "      <td>0.000235</td>\n",
       "      <td>img_0_0_1542098919031247900.png</td>\n",
       "      <td>img_0_3_1542098919034924900.png</td>\n",
       "      <td>img_0_5_1542098919037481300.png</td>\n",
       "    </tr>\n",
       "    <tr>\n",
       "      <th>1</th>\n",
       "      <td>1</td>\n",
       "      <td>1</td>\n",
       "      <td>1542098927672</td>\n",
       "      <td>0.539220</td>\n",
       "      <td>-0.753961</td>\n",
       "      <td>-0.038781</td>\n",
       "      <td>0.219876</td>\n",
       "      <td>-0.0</td>\n",
       "      <td>0.0</td>\n",
       "      <td>0.975528</td>\n",
       "      <td>-0.004269</td>\n",
       "      <td>-0.007061</td>\n",
       "      <td>-9.796641</td>\n",
       "      <td>-0.000113</td>\n",
       "      <td>0.000299</td>\n",
       "      <td>0.000157</td>\n",
       "      <td>img_0_0_1542098928056216200.png</td>\n",
       "      <td>img_0_3_1542098928058906700.png</td>\n",
       "      <td>img_0_5_1542098928061151600.png</td>\n",
       "    </tr>\n",
       "    <tr>\n",
       "      <th>2</th>\n",
       "      <td>2</td>\n",
       "      <td>2</td>\n",
       "      <td>1542099006672</td>\n",
       "      <td>1.811826</td>\n",
       "      <td>-1.783541</td>\n",
       "      <td>-0.038781</td>\n",
       "      <td>0.845706</td>\n",
       "      <td>-0.0</td>\n",
       "      <td>0.0</td>\n",
       "      <td>0.533649</td>\n",
       "      <td>0.007127</td>\n",
       "      <td>-0.006138</td>\n",
       "      <td>-9.802512</td>\n",
       "      <td>0.000018</td>\n",
       "      <td>0.000242</td>\n",
       "      <td>-2.073797</td>\n",
       "      <td>img_0_0_1542099007064132600.png</td>\n",
       "      <td>img_0_3_1542099007066469000.png</td>\n",
       "      <td>img_0_5_1542099007068223000.png</td>\n",
       "    </tr>\n",
       "    <tr>\n",
       "      <th>3</th>\n",
       "      <td>3</td>\n",
       "      <td>3</td>\n",
       "      <td>1542099035673</td>\n",
       "      <td>1.735275</td>\n",
       "      <td>0.055900</td>\n",
       "      <td>-0.038781</td>\n",
       "      <td>0.988930</td>\n",
       "      <td>-0.0</td>\n",
       "      <td>0.0</td>\n",
       "      <td>0.148384</td>\n",
       "      <td>4.352539</td>\n",
       "      <td>3.855151</td>\n",
       "      <td>-9.808618</td>\n",
       "      <td>-0.000499</td>\n",
       "      <td>-0.000436</td>\n",
       "      <td>-1.609914</td>\n",
       "      <td>img_0_0_1542099036029939100.png</td>\n",
       "      <td>img_0_3_1542099036032202400.png</td>\n",
       "      <td>img_0_5_1542099036034012000.png</td>\n",
       "    </tr>\n",
       "    <tr>\n",
       "      <th>4</th>\n",
       "      <td>4</td>\n",
       "      <td>4</td>\n",
       "      <td>1542099047673</td>\n",
       "      <td>-1.467342</td>\n",
       "      <td>-0.783857</td>\n",
       "      <td>-0.038781</td>\n",
       "      <td>0.127870</td>\n",
       "      <td>0.0</td>\n",
       "      <td>-0.0</td>\n",
       "      <td>-0.991791</td>\n",
       "      <td>0.001481</td>\n",
       "      <td>-0.007924</td>\n",
       "      <td>-9.816813</td>\n",
       "      <td>0.000579</td>\n",
       "      <td>0.000273</td>\n",
       "      <td>-0.000102</td>\n",
       "      <td>img_0_0_1542099048061266300.png</td>\n",
       "      <td>img_0_3_1542099048063828800.png</td>\n",
       "      <td>img_0_5_1542099048066488000.png</td>\n",
       "    </tr>\n",
       "  </tbody>\n",
       "</table>\n",
       "</div>"
      ],
      "text/plain": [
       "   Unnamed: 0  Unnamed: 0.1      TimeStamp     POS_X     POS_Y     POS_Z  \\\n",
       "0           0             0  1542098918672  1.628652 -1.342870 -0.038781   \n",
       "1           1             1  1542098927672  0.539220 -0.753961 -0.038781   \n",
       "2           2             2  1542099006672  1.811826 -1.783541 -0.038781   \n",
       "3           3             3  1542099035673  1.735275  0.055900 -0.038781   \n",
       "4           4             4  1542099047673 -1.467342 -0.783857 -0.038781   \n",
       "\n",
       "        Q_W  Q_X  Q_Y       Q_Z   IMU_LAX   IMU_LAY   IMU_LAZ   IMU_AVX  \\\n",
       "0  1.000000 -0.0  0.0  0.000000 -0.012323  0.012355 -9.793530  0.000031   \n",
       "1  0.219876 -0.0  0.0  0.975528 -0.004269 -0.007061 -9.796641 -0.000113   \n",
       "2  0.845706 -0.0  0.0  0.533649  0.007127 -0.006138 -9.802512  0.000018   \n",
       "3  0.988930 -0.0  0.0  0.148384  4.352539  3.855151 -9.808618 -0.000499   \n",
       "4  0.127870  0.0 -0.0 -0.991791  0.001481 -0.007924 -9.816813  0.000579   \n",
       "\n",
       "    IMU_AVY   IMU_AVZ                        ImageFile  \\\n",
       "0  0.000238  0.000235  img_0_0_1542098919031247900.png   \n",
       "1  0.000299  0.000157  img_0_0_1542098928056216200.png   \n",
       "2  0.000242 -2.073797  img_0_0_1542099007064132600.png   \n",
       "3 -0.000436 -1.609914  img_0_0_1542099036029939100.png   \n",
       "4  0.000273 -0.000102  img_0_0_1542099048061266300.png   \n",
       "\n",
       "                         DepthFile                          SegFile  \n",
       "0  img_0_3_1542098919034924900.png  img_0_5_1542098919037481300.png  \n",
       "1  img_0_3_1542098928058906700.png  img_0_5_1542098928061151600.png  \n",
       "2  img_0_3_1542099007066469000.png  img_0_5_1542099007068223000.png  \n",
       "3  img_0_3_1542099036032202400.png  img_0_5_1542099036034012000.png  \n",
       "4  img_0_3_1542099048063828800.png  img_0_5_1542099048066488000.png  "
      ]
     },
     "execution_count": 155,
     "metadata": {},
     "output_type": "execute_result"
    }
   ],
   "source": [
    "info = pd.read_csv(data_dir / 'info.csv').reset_index(drop=True)\n",
    "info.head()"
   ]
  },
  {
   "cell_type": "code",
   "execution_count": 160,
   "metadata": {},
   "outputs": [
    {
     "data": {
      "image/png": "[encoded data removed]",
      "text/plain": [
       "<Figure size 1080x360 with 3 Axes>"
      ]
     },
     "metadata": {
      "needs_background": "light"
     },
     "output_type": "display_data"
    }
   ],
   "source": [
    "fig, axes = plt.subplots(ncols=3)\n",
    "fig.set_size_inches(15, 5)\n",
    "\n",
    "for fname, ax in zip(info.loc[0, ['ImageFile', 'DepthFile', 'SegFile']], axes.flatten()):\n",
    "    fpath = images_dir / fname\n",
    "    ax.imshow(img.imread(fpath))"
   ]
  },
  {
   "cell_type": "code",
   "execution_count": 199,
   "metadata": {},
   "outputs": [
    {
     "data": {
      "application/vnd.jupyter.widget-view+json": {
       "model_id": "7f98be5990c64785b02c0b96343c492d",
       "version_major": 2,
       "version_minor": 0
      },
      "text/plain": [
       "HBox(children=(FloatProgress(value=0.0, max=1000.0), HTML(value='')))"
      ]
     },
     "metadata": {},
     "output_type": "display_data"
    },
    {
     "name": "stdout",
     "output_type": "stream",
     "text": [
      "\n"
     ]
    },
    {
     "data": {
      "text/plain": [
       "(1000, 480, 640, 4)"
      ]
     },
     "execution_count": 199,
     "metadata": {},
     "output_type": "execute_result"
    }
   ],
   "source": [
    "images = np.array([img.imread(images_dir / fname) for fname in tqdm(info['ImageFile'])])\n",
    "images.shape"
   ]
  },
  {
   "cell_type": "code",
   "execution_count": 200,
   "metadata": {},
   "outputs": [
    {
     "data": {
      "text/plain": [
       "(1000, 240, 320, 3)"
      ]
     },
     "execution_count": 200,
     "metadata": {},
     "output_type": "execute_result"
    }
   ],
   "source": [
    "x = images[:, ::2, ::2, :-1].copy()\n",
    "x.shape"
   ]
  },
  {
   "cell_type": "code",
   "execution_count": 201,
   "metadata": {},
   "outputs": [
    {
     "data": {
      "text/plain": [
       "(1000, 7)"
      ]
     },
     "execution_count": 201,
     "metadata": {},
     "output_type": "execute_result"
    }
   ],
   "source": [
    "y = info[['POS_X', 'POS_Y', 'POS_Z', 'Q_W', 'Q_X', 'Q_Y', 'Q_Z']].values.astype(np.float64)\n",
    "y.shape"
   ]
  },
  {
   "cell_type": "code",
   "execution_count": 202,
   "metadata": {},
   "outputs": [],
   "source": [
    "cropped_size = 180"
   ]
  },
  {
   "cell_type": "code",
   "execution_count": 203,
   "metadata": {},
   "outputs": [],
   "source": [
    "def get_random_crop(image: np.ndarray, cropped_size: int) -> np.ndarray:\n",
    "    height, width, _ = image.shape\n",
    "    top_left_x = np.random.randint(0, height - cropped_size)\n",
    "    top_left_y = np.random.randint(0, width - cropped_size)\n",
    "    \n",
    "    return image[top_left_x:top_left_x+cropped_size, top_left_y:top_left_y+cropped_size]\n",
    "\n",
    "def get_center_crop(image: np.ndarray, cropped_size: int) -> np.ndarray:\n",
    "    height, width, _ = image.shape\n",
    "    top_left_x = (height - cropped_size) // 2\n",
    "    top_left_y = (width - cropped_size) // 2\n",
    "    \n",
    "    return image[top_left_x:top_left_x+cropped_size, top_left_y:top_left_y+cropped_size]"
   ]
  },
  {
   "cell_type": "code",
   "execution_count": 204,
   "metadata": {},
   "outputs": [],
   "source": [
    "x_train, x_test, y_train, y_test = train_test_split(x, y, test_size=0.2, shuffle=True)"
   ]
  },
  {
   "cell_type": "code",
   "execution_count": 205,
   "metadata": {},
   "outputs": [
    {
     "data": {
      "text/plain": [
       "((16000, 180, 180, 3), (16000, 7))"
      ]
     },
     "execution_count": 205,
     "metadata": {},
     "output_type": "execute_result"
    }
   ],
   "source": [
    "x_train_augmented = []\n",
    "y_train_augmented = []\n",
    "\n",
    "for x_, y_ in zip(x_train, y_train):\n",
    "    for _ in range(20):\n",
    "        x_train_augmented.append(get_random_crop(x_, cropped_size=cropped_size))\n",
    "        y_train_augmented.append(y_)\n",
    "        \n",
    "x_train_augmented = np.array(x_train_augmented)\n",
    "y_train_augmented = np.array(y_train_augmented)\n",
    "\n",
    "x_train_augmented.shape, y_train_augmented.shape"
   ]
  },
  {
   "cell_type": "code",
   "execution_count": 206,
   "metadata": {},
   "outputs": [
    {
     "data": {
      "text/plain": [
       "((200, 180, 180, 3), (200, 7))"
      ]
     },
     "execution_count": 206,
     "metadata": {},
     "output_type": "execute_result"
    }
   ],
   "source": [
    "x_test_centered = np.array([get_center_crop(image, cropped_size=cropped_size) for image in x_test])\n",
    "\n",
    "x_test_centered.shape, y_test.shape"
   ]
  },
  {
   "cell_type": "code",
   "execution_count": 207,
   "metadata": {},
   "outputs": [],
   "source": [
    "def loss_(y_true, y_pred, beta: float):\n",
    "    y_true_pos = y_true[:, :4]\n",
    "    y_true_q = y_true[:, 4:]\n",
    "    y_pred_pos = y_pred[:, :4]\n",
    "    y_pred_q = y_pred[:, 4:]\n",
    "    \n",
    "    return (tf.reduce_sum(tf.square(y_true_pos - y_pred_pos), axis=1)\n",
    "            + beta * tf.reduce_sum(tf.square(y_true_q - y_pred_q), axis=1))"
   ]
  },
  {
   "cell_type": "code",
   "execution_count": 208,
   "metadata": {},
   "outputs": [],
   "source": [
    "model = tf.keras.models.Sequential([\n",
    "    tf.keras.layers.InputLayer(input_shape=x_train_augmented[0].shape),\n",
    "    tf.keras.layers.Conv2D(16, (3, 3), activation='relu'),\n",
    "    tf.keras.layers.MaxPool2D(),\n",
    "    tf.keras.layers.Conv2D(32, (3, 3), activation='relu'),\n",
    "    tf.keras.layers.MaxPool2D(),\n",
    "    tf.keras.layers.Conv2D(64, (3, 3), activation='relu'),\n",
    "    tf.keras.layers.MaxPool2D(),\n",
    "    tf.keras.layers.Flatten(),\n",
    "    tf.keras.layers.Dense(256, activation='relu'),\n",
    "    tf.keras.layers.Dense(y_train_augmented.shape[1]),\n",
    "])"
   ]
  },
  {
   "cell_type": "code",
   "execution_count": 213,
   "metadata": {},
   "outputs": [
    {
     "name": "stdout",
     "output_type": "stream",
     "text": [
      "Model: \"sequential_12\"\n",
      "_________________________________________________________________\n",
      "Layer (type)                 Output Shape              Param #   \n",
      "=================================================================\n",
      "conv2d_36 (Conv2D)           (None, 178, 178, 16)      448       \n",
      "_________________________________________________________________\n",
      "max_pooling2d_36 (MaxPooling (None, 89, 89, 16)        0         \n",
      "_________________________________________________________________\n",
      "conv2d_37 (Conv2D)           (None, 87, 87, 32)        4640      \n",
      "_________________________________________________________________\n",
      "max_pooling2d_37 (MaxPooling (None, 43, 43, 32)        0         \n",
      "_________________________________________________________________\n",
      "conv2d_38 (Conv2D)           (None, 41, 41, 64)        18496     \n",
      "_________________________________________________________________\n",
      "max_pooling2d_38 (MaxPooling (None, 20, 20, 64)        0         \n",
      "_________________________________________________________________\n",
      "flatten_12 (Flatten)         (None, 25600)             0         \n",
      "_________________________________________________________________\n",
      "dense_24 (Dense)             (None, 256)               6553856   \n",
      "_________________________________________________________________\n",
      "dense_25 (Dense)             (None, 7)                 1799      \n",
      "=================================================================\n",
      "Total params: 6,579,239\n",
      "Trainable params: 6,579,239\n",
      "Non-trainable params: 0\n",
      "_________________________________________________________________\n"
     ]
    }
   ],
   "source": [
    "model.summary()"
   ]
  },
  {
   "cell_type": "code",
   "execution_count": 211,
   "metadata": {},
   "outputs": [],
   "source": [
    "model.compile(loss=lambda y_true, y_pred: loss(y_true, y_pred, beta=250), metrics=['mse'])"
   ]
  },
  {
   "cell_type": "code",
   "execution_count": 262,
   "metadata": {},
   "outputs": [
    {
     "name": "stdout",
     "output_type": "stream",
     "text": [
      "Train on 16000 samples, validate on 200 samples\n",
      "16000/16000 [==============================] - 77s 5ms/sample - loss: 14.7250 - mse: 0.1622 - val_loss: 13.6785 - val_mse: 0.1157\n"
     ]
    }
   ],
   "source": [
    "hist = model.fit(x_train_augmented, y_train_augmented, epochs=1, validation_data=[x_test_centered, y_test])"
   ]
  },
  {
   "cell_type": "code",
   "execution_count": 268,
   "metadata": {},
   "outputs": [
    {
     "data": {
      "text/plain": [
       "{'loss': [14.725023195266724],\n",
       " 'mse': [0.16220355],\n",
       " 'val_loss': [13.678495788574219],\n",
       " 'val_mse': [0.11570039]}"
      ]
     },
     "execution_count": 268,
     "metadata": {},
     "output_type": "execute_result"
    }
   ],
   "source": [
    "hist.history"
   ]
  },
  {
   "cell_type": "code",
   "execution_count": 263,
   "metadata": {},
   "outputs": [
    {
     "data": {
      "text/plain": [
       "['__class__',\n",
       " '__delattr__',\n",
       " '__dict__',\n",
       " '__dir__',\n",
       " '__doc__',\n",
       " '__eq__',\n",
       " '__format__',\n",
       " '__ge__',\n",
       " '__getattribute__',\n",
       " '__gt__',\n",
       " '__hash__',\n",
       " '__init__',\n",
       " '__init_subclass__',\n",
       " '__le__',\n",
       " '__lt__',\n",
       " '__module__',\n",
       " '__ne__',\n",
       " '__new__',\n",
       " '__reduce__',\n",
       " '__reduce_ex__',\n",
       " '__repr__',\n",
       " '__setattr__',\n",
       " '__sizeof__',\n",
       " '__str__',\n",
       " '__subclasshook__',\n",
       " '__weakref__',\n",
       " '_chief_worker_only',\n",
       " '_keras_api_names',\n",
       " '_keras_api_names_v1',\n",
       " 'epoch',\n",
       " 'history',\n",
       " 'model',\n",
       " 'on_batch_begin',\n",
       " 'on_batch_end',\n",
       " 'on_epoch_begin',\n",
       " 'on_epoch_end',\n",
       " 'on_predict_batch_begin',\n",
       " 'on_predict_batch_end',\n",
       " 'on_predict_begin',\n",
       " 'on_predict_end',\n",
       " 'on_test_batch_begin',\n",
       " 'on_test_batch_end',\n",
       " 'on_test_begin',\n",
       " 'on_test_end',\n",
       " 'on_train_batch_begin',\n",
       " 'on_train_batch_end',\n",
       " 'on_train_begin',\n",
       " 'on_train_end',\n",
       " 'params',\n",
       " 'set_model',\n",
       " 'set_params',\n",
       " 'validation_data']"
      ]
     },
     "execution_count": 263,
     "metadata": {},
     "output_type": "execute_result"
    }
   ],
   "source": [
    "dir(hist)"
   ]
  },
  {
   "cell_type": "code",
   "execution_count": null,
   "metadata": {},
   "outputs": [],
   "source": []
  },
  {
   "cell_type": "code",
   "execution_count": 261,
   "metadata": {},
   "outputs": [
    {
     "data": {
      "text/plain": [
       "['_TF_MODULE_IGNORED_PROPERTIES',\n",
       " '__call__',\n",
       " '__class__',\n",
       " '__delattr__',\n",
       " '__dict__',\n",
       " '__dir__',\n",
       " '__doc__',\n",
       " '__eq__',\n",
       " '__format__',\n",
       " '__ge__',\n",
       " '__getattribute__',\n",
       " '__getstate__',\n",
       " '__gt__',\n",
       " '__hash__',\n",
       " '__init__',\n",
       " '__init_subclass__',\n",
       " '__le__',\n",
       " '__lt__',\n",
       " '__module__',\n",
       " '__ne__',\n",
       " '__new__',\n",
       " '__reduce__',\n",
       " '__reduce_ex__',\n",
       " '__repr__',\n",
       " '__setattr__',\n",
       " '__setstate__',\n",
       " '__sizeof__',\n",
       " '__str__',\n",
       " '__subclasshook__',\n",
       " '__weakref__',\n",
       " '_activity_regularizer',\n",
       " '_add_inbound_node',\n",
       " '_add_trackable',\n",
       " '_add_unique_metric_name',\n",
       " '_add_variable_with_custom_getter',\n",
       " '_assert_compile_was_called',\n",
       " '_assert_weights_created',\n",
       " '_attribute_sentinel',\n",
       " '_autocast',\n",
       " '_base_init',\n",
       " '_build_input_shape',\n",
       " '_build_model_with_inputs',\n",
       " '_cache_output_metric_attributes',\n",
       " '_call_accepts_kwargs',\n",
       " '_call_arg_was_passed',\n",
       " '_call_fn_args',\n",
       " '_call_full_argspec',\n",
       " '_callable_losses',\n",
       " '_check_call_args',\n",
       " '_check_trainable_weights_consistency',\n",
       " '_checkpoint_dependencies',\n",
       " '_clear_losses',\n",
       " '_collect_input_masks',\n",
       " '_collected_trainable_weights',\n",
       " '_compile_distribution',\n",
       " '_compile_eagerly',\n",
       " '_compile_from_inputs',\n",
       " '_compile_metric_functions',\n",
       " '_compile_metrics',\n",
       " '_compile_time_distribution_strategy',\n",
       " '_compile_weighted_metrics',\n",
       " '_compile_weights_loss_and_weighted_metrics',\n",
       " '_compiled_trainable_state',\n",
       " '_compute_dtype',\n",
       " '_compute_output_and_mask_jointly',\n",
       " '_dedup_weights',\n",
       " '_deferred_dependencies',\n",
       " '_distributed_function_cache',\n",
       " '_distributed_model_cache',\n",
       " '_distribution_standardize_user_data',\n",
       " '_distribution_strategy',\n",
       " '_dtype',\n",
       " '_dtype_defaulted_to_floatx',\n",
       " '_dtype_policy',\n",
       " '_dynamic',\n",
       " '_eager_add_metric',\n",
       " '_eager_losses',\n",
       " '_expects_mask_arg',\n",
       " '_expects_training_arg',\n",
       " '_experimental_run_tf_function',\n",
       " '_feed_input_names',\n",
       " '_feed_input_shapes',\n",
       " '_feed_inputs',\n",
       " '_feed_loss_fns',\n",
       " '_feed_output_names',\n",
       " '_feed_output_shapes',\n",
       " '_feed_sample_weights',\n",
       " '_feed_targets',\n",
       " '_flatten',\n",
       " '_function_kwargs',\n",
       " '_gather_children_attribute',\n",
       " '_gather_saveables_for_checkpoint',\n",
       " '_get_call_arg_value',\n",
       " '_get_callback_model',\n",
       " '_get_distribution_strategy',\n",
       " '_get_existing_metric',\n",
       " '_get_node_attribute_at_index',\n",
       " '_get_trainable_state',\n",
       " '_get_training_eval_metrics',\n",
       " '_graph',\n",
       " '_graph_network_add_loss',\n",
       " '_graph_network_add_metric',\n",
       " '_handle_activity_regularization',\n",
       " '_handle_deferred_dependencies',\n",
       " '_handle_metrics',\n",
       " '_handle_per_output_metrics',\n",
       " '_handle_weight_regularization',\n",
       " '_in_multi_worker_mode',\n",
       " '_inbound_nodes',\n",
       " '_init_call_fn_args',\n",
       " '_init_distributed_function_cache_if_not_compiled',\n",
       " '_init_graph_network',\n",
       " '_init_metric_attributes',\n",
       " '_init_set_name',\n",
       " '_init_subclassed_network',\n",
       " '_input_coordinates',\n",
       " '_input_layers',\n",
       " '_insert_layers',\n",
       " '_is_compiled',\n",
       " '_is_graph_network',\n",
       " '_is_layer',\n",
       " '_keras_api_names',\n",
       " '_keras_api_names_v1',\n",
       " '_layer_call_argspecs',\n",
       " '_layers',\n",
       " '_list_extra_dependencies_for_serialization',\n",
       " '_list_functions_for_serialization',\n",
       " '_lookup_dependency',\n",
       " '_loss_weights_list',\n",
       " '_losses',\n",
       " '_make_callback_model',\n",
       " '_make_execution_function',\n",
       " '_make_predict_function',\n",
       " '_make_test_function',\n",
       " '_make_train_function',\n",
       " '_maybe_build',\n",
       " '_maybe_cast_inputs',\n",
       " '_maybe_create_attribute',\n",
       " '_maybe_initialize_trackable',\n",
       " '_maybe_load_initial_epoch_from_ckpt',\n",
       " '_metrics',\n",
       " '_name',\n",
       " '_name_based_attribute_restore',\n",
       " '_name_based_restores',\n",
       " '_name_scope',\n",
       " '_nested_inputs',\n",
       " '_nested_outputs',\n",
       " '_network_nodes',\n",
       " '_no_dependency',\n",
       " '_nodes_by_depth',\n",
       " '_non_trainable_weights',\n",
       " '_obj_reference_counts',\n",
       " '_obj_reference_counts_dict',\n",
       " '_object_identifier',\n",
       " '_outbound_nodes',\n",
       " '_output_coordinates',\n",
       " '_output_layers',\n",
       " '_output_loss_metrics',\n",
       " '_output_mask_cache',\n",
       " '_output_shape_cache',\n",
       " '_output_tensor_cache',\n",
       " '_per_output_metrics',\n",
       " '_per_output_weighted_metrics',\n",
       " '_preload_simple_restoration',\n",
       " '_prepare_output_masks',\n",
       " '_prepare_sample_weights',\n",
       " '_prepare_skip_target_masks',\n",
       " '_prepare_total_loss',\n",
       " '_prepare_validation_data',\n",
       " '_process_target_tensor_for_compile',\n",
       " '_recompile_weights_loss_and_weighted_metrics',\n",
       " '_restore_from_checkpoint_position',\n",
       " '_reuse',\n",
       " '_run_eagerly',\n",
       " '_run_internal_graph',\n",
       " '_sample_weight_modes',\n",
       " '_scope',\n",
       " '_select_training_loop',\n",
       " '_self_name_based_restores',\n",
       " '_self_setattr_tracking',\n",
       " '_self_unconditional_checkpoint_dependencies',\n",
       " '_self_unconditional_deferred_dependencies',\n",
       " '_self_unconditional_dependency_names',\n",
       " '_self_update_uid',\n",
       " '_set_connectivity_metadata_',\n",
       " '_set_dtype_policy',\n",
       " '_set_input_attrs',\n",
       " '_set_inputs',\n",
       " '_set_mask_metadata',\n",
       " '_set_metric_attributes',\n",
       " '_set_optimizer',\n",
       " '_set_output_attrs',\n",
       " '_set_output_names',\n",
       " '_set_per_output_metric_attributes',\n",
       " '_set_strategy',\n",
       " '_set_trainable_state',\n",
       " '_setattr_tracking',\n",
       " '_should_compute_mask',\n",
       " '_single_restoration_from_checkpoint_position',\n",
       " '_standardize_tensors',\n",
       " '_standardize_user_data',\n",
       " '_successful_loop_finish',\n",
       " '_supports_ragged_inputs',\n",
       " '_symbolic_add_metric',\n",
       " '_symbolic_call',\n",
       " '_targets',\n",
       " '_tf_api_names',\n",
       " '_tf_api_names_v1',\n",
       " '_thread_local',\n",
       " '_track_layers',\n",
       " '_track_trackable',\n",
       " '_trackable_saved_model_saver',\n",
       " '_trackable_saver',\n",
       " '_tracking_metadata',\n",
       " '_trainable',\n",
       " '_trainable_weights',\n",
       " '_training_endpoints',\n",
       " '_unconditional_checkpoint_dependencies',\n",
       " '_unconditional_dependency_names',\n",
       " '_undeduplicated_weights',\n",
       " '_update_sample_weight_modes',\n",
       " '_update_uid',\n",
       " '_updated_config',\n",
       " '_updates',\n",
       " '_validate_compile_param_for_distribution_strategy',\n",
       " '_validate_graph_inputs_and_outputs',\n",
       " '_validate_or_infer_batch_size',\n",
       " '_warn_about_input_casting',\n",
       " 'activity_regularizer',\n",
       " 'add',\n",
       " 'add_loss',\n",
       " 'add_metric',\n",
       " 'add_update',\n",
       " 'add_variable',\n",
       " 'add_weight',\n",
       " 'apply',\n",
       " 'build',\n",
       " 'built',\n",
       " 'call',\n",
       " 'compile',\n",
       " 'compute_mask',\n",
       " 'compute_output_shape',\n",
       " 'compute_output_signature',\n",
       " 'count_params',\n",
       " 'dtype',\n",
       " 'dynamic',\n",
       " 'evaluate',\n",
       " 'evaluate_generator',\n",
       " 'fit',\n",
       " 'fit_generator',\n",
       " 'from_config',\n",
       " 'get_config',\n",
       " 'get_input_at',\n",
       " 'get_input_mask_at',\n",
       " 'get_input_shape_at',\n",
       " 'get_layer',\n",
       " 'get_losses_for',\n",
       " 'get_output_at',\n",
       " 'get_output_mask_at',\n",
       " 'get_output_shape_at',\n",
       " 'get_updates_for',\n",
       " 'get_weights',\n",
       " 'history',\n",
       " 'inbound_nodes',\n",
       " 'input',\n",
       " 'input_mask',\n",
       " 'input_names',\n",
       " 'input_shape',\n",
       " 'input_spec',\n",
       " 'inputs',\n",
       " 'layers',\n",
       " 'load_weights',\n",
       " 'loss',\n",
       " 'loss_functions',\n",
       " 'loss_weights',\n",
       " 'losses',\n",
       " 'metrics',\n",
       " 'metrics_names',\n",
       " 'name',\n",
       " 'name_scope',\n",
       " 'non_trainable_variables',\n",
       " 'non_trainable_weights',\n",
       " 'optimizer',\n",
       " 'outbound_nodes',\n",
       " 'output',\n",
       " 'output_mask',\n",
       " 'output_names',\n",
       " 'output_shape',\n",
       " 'outputs',\n",
       " 'pop',\n",
       " 'predict',\n",
       " 'predict_classes',\n",
       " 'predict_function',\n",
       " 'predict_generator',\n",
       " 'predict_on_batch',\n",
       " 'predict_proba',\n",
       " 'reset_metrics',\n",
       " 'reset_states',\n",
       " 'run_eagerly',\n",
       " 'sample_weight_mode',\n",
       " 'sample_weights',\n",
       " 'save',\n",
       " 'save_weights',\n",
       " 'set_weights',\n",
       " 'state_updates',\n",
       " 'stateful',\n",
       " 'stop_training',\n",
       " 'submodules',\n",
       " 'summary',\n",
       " 'supports_masking',\n",
       " 'test_function',\n",
       " 'test_on_batch',\n",
       " 'to_json',\n",
       " 'to_yaml',\n",
       " 'total_loss',\n",
       " 'train_function',\n",
       " 'train_on_batch',\n",
       " 'trainable',\n",
       " 'trainable_variables',\n",
       " 'trainable_weights',\n",
       " 'updates',\n",
       " 'variables',\n",
       " 'weights',\n",
       " 'with_name_scope']"
      ]
     },
     "execution_count": 261,
     "metadata": {},
     "output_type": "execute_result"
    }
   ],
   "source": [
    "dir(model)"
   ]
  },
  {
   "cell_type": "code",
   "execution_count": 255,
   "metadata": {},
   "outputs": [],
   "source": [
    "y_pred = model.predict(x_test_centered)\n",
    "y_pred[:, 4:] /= ((y_pred[:, 4:] ** 2).sum(axis=1) ** 0.5).reshape(-1, 1)"
   ]
  },
  {
   "cell_type": "code",
   "execution_count": 257,
   "metadata": {},
   "outputs": [
    {
     "data": {
      "text/plain": [
       "0.22462025"
      ]
     },
     "execution_count": 257,
     "metadata": {},
     "output_type": "execute_result"
    }
   ],
   "source": [
    "tf.keras.metrics.mse(y_test, y_pred).numpy().mean()"
   ]
  },
  {
   "cell_type": "code",
   "execution_count": 260,
   "metadata": {},
   "outputs": [
    {
     "data": {
      "text/plain": [
       "121.51570013533313"
      ]
     },
     "execution_count": 260,
     "metadata": {},
     "output_type": "execute_result"
    }
   ],
   "source": [
    "loss(y_test, y_pred, beta=250).numpy().mean()"
   ]
  },
  {
   "cell_type": "code",
   "execution_count": 241,
   "metadata": {},
   "outputs": [
    {
     "data": {
      "text/plain": [
       "<tf.Tensor: shape=(), dtype=float32, numpy=0.22462021>"
      ]
     },
     "execution_count": 241,
     "metadata": {},
     "output_type": "execute_result"
    }
   ],
   "source": [
    "tf.reduce_mean(tf.keras.metrics.mse(y_test, y_pred))"
   ]
  },
  {
   "cell_type": "code",
   "execution_count": 218,
   "metadata": {},
   "outputs": [
    {
     "data": {
      "text/plain": [
       "array([-1.125278, -1.213737, -0.038781,  0.973839, -0.      ,  0.      ,\n",
       "        0.227238])"
      ]
     },
     "execution_count": 218,
     "metadata": {},
     "output_type": "execute_result"
    }
   ],
   "source": [
    "y_test[0]"
   ]
  },
  {
   "cell_type": "code",
   "execution_count": 219,
   "metadata": {},
   "outputs": [
    {
     "data": {
      "text/plain": [
       "array([-1.2595739e+00, -1.3276528e+00, -3.2645985e-02,  8.8818407e-01,\n",
       "        1.1993269e-03, -1.2445042e-02,  9.5870920e-02], dtype=float32)"
      ]
     },
     "execution_count": 219,
     "metadata": {},
     "output_type": "execute_result"
    }
   ],
   "source": [
    "y_pred[0]"
   ]
  },
  {
   "cell_type": "code",
   "execution_count": null,
   "metadata": {},
   "outputs": [],
   "source": []
  },
  {
   "cell_type": "code",
   "execution_count": 91,
   "metadata": {},
   "outputs": [],
   "source": [
    "y_pred = model.predict(x_test)"
   ]
  },
  {
   "cell_type": "code",
   "execution_count": 92,
   "metadata": {},
   "outputs": [
    {
     "data": {
      "text/plain": [
       "array([ 1.192252, -1.017841, -0.038781,  0.956864,  0.      , -0.      ,\n",
       "       -0.290536])"
      ]
     },
     "execution_count": 92,
     "metadata": {},
     "output_type": "execute_result"
    }
   ],
   "source": [
    "y_test[0]"
   ]
  },
  {
   "cell_type": "code",
   "execution_count": 93,
   "metadata": {},
   "outputs": [
    {
     "data": {
      "text/plain": [
       "array([ 1.3645828 , -0.507827  , -0.06405304,  0.91818684, -0.01238632,\n",
       "        0.01091536, -0.40198877], dtype=float32)"
      ]
     },
     "execution_count": 93,
     "metadata": {},
     "output_type": "execute_result"
    }
   ],
   "source": [
    "y_pred[0]"
   ]
  },
  {
   "cell_type": "code",
   "execution_count": null,
   "metadata": {},
   "outputs": [],
   "source": []
  }
 ],
 "metadata": {
  "kernelspec": {
   "display_name": "Python 3",
   "language": "python",
   "name": "python3"
  },
  "language_info": {
   "codemirror_mode": {
    "name": "ipython",
    "version": 3
   },
   "file_extension": ".py",
   "mimetype": "text/x-python",
   "name": "python",
   "nbconvert_exporter": "python",
   "pygments_lexer": "ipython3",
   "version": "3.7.6"
  }
 },
 "nbformat": 4,
 "nbformat_minor": 4
}
